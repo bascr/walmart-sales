{
  "nbformat": 4,
  "nbformat_minor": 0,
  "metadata": {
    "colab": {
      "provenance": [],
      "collapsed_sections": [],
      "include_colab_link": true
    },
    "kernelspec": {
      "name": "python3",
      "display_name": "Python 3"
    },
    "language_info": {
      "name": "python"
    }
  },
  "cells": [
    {
      "cell_type": "markdown",
      "metadata": {
        "id": "view-in-github",
        "colab_type": "text"
      },
      "source": [
        "<a href=\"https://colab.research.google.com/github/bascr/walmart-sales/blob/main/walmart_sales.ipynb\" target=\"_parent\"><img src=\"https://colab.research.google.com/assets/colab-badge.svg\" alt=\"Open In Colab\"/></a>"
      ]
    },
    {
      "cell_type": "markdown",
      "source": [
        "# Walmart Sales"
      ],
      "metadata": {
        "id": "PW2vUN7NKw_H"
      }
    },
    {
      "cell_type": "markdown",
      "source": [
        "### Metadata\n",
        "\n",
        "**Dataset**: https://www.kaggle.com/datasets/yasserh/walmart-dataset?select=Walmart.csv\n",
        "\n",
        "**Licence**: CC0: Public Domain\n",
        "\n",
        "**About the dataset**\n",
        "\n",
        "This is the historical data that covers sales from 2010-02-05 to 2012-11-01, in the file WalmartStoresales. Within this file you will find the following fields:\n",
        "\n",
        "- **Store**: the store number\n",
        "- **Date**: the week of sales\n",
        "- **Weekly_Sales**: sales for the given store\n",
        "- **Holiday_Flag**: whether the week is a special holiday - week 1 – Holiday week 0 – Non-holiday week\n",
        "- **Temperature**: Temperature on the day of sale\n",
        "- **Fuel_Price**: Cost of fuel in the region\n",
        "- **CPI**: Prevailing consumer price index. Obtained by comparing, over time, the cost of a fixed basket of goods and services purchased by consumers. \n",
        "- **Unemployment**: Prevailing unemployment rate\n",
        "\n",
        "<br>\n",
        "\n",
        "**Holiday Events** \n",
        "\n",
        "- **Super Bowl**: 12-Feb-10, 11-Feb-11, 10-Feb-12, 8-Feb-13\n",
        "- **Labour Day**: 10-Sep-10, 9-Sep-11, 7-Sep-12, 6-Sep-13\n",
        "- **Thanksgiving**: 26-Nov-10, 25-Nov-11, 23-Nov-12, 29-Nov-13\n",
        "- **Christmas**: 31-Dec-10, 30-Dec-11, 28-Dec-12, 27-Dec-13\n",
        "\n",
        "<br>"
      ],
      "metadata": {
        "id": "K4gTCUH9SCMO"
      }
    },
    {
      "cell_type": "markdown",
      "source": [
        "### Questions\n",
        "\n",
        "- Does the temperature influence the weekly sales?\n",
        "- What is the effect of Unemployment on sales?\n",
        "- Which Season has the highest sales?\n",
        "- Which Store location has the maximum sales? Do we need more manpower in that location?\n",
        "-Which holiday has the negative impact on sales?\n",
        "-Is there a correlation between CPI and rate sales?"
      ],
      "metadata": {
        "id": "KrJH5opPSIzC"
      }
    },
    {
      "cell_type": "markdown",
      "source": [
        "## 01 Data Preparation\n",
        "\n",
        "### 01.1 Querying the data"
      ],
      "metadata": {
        "id": "44QuwCpAjIPI"
      }
    },
    {
      "cell_type": "markdown",
      "source": [
        "#### Load data from csv file"
      ],
      "metadata": {
        "id": "9CS-kaX_L0ks"
      }
    },
    {
      "cell_type": "code",
      "source": [
        "import pandas as pd\n",
        "\n",
        "dataset = pd.read_csv('dataset/walmart-sales.csv')\n",
        "dataset"
      ],
      "metadata": {
        "id": "jWe3VtKhL2rg",
        "colab": {
          "base_uri": "https://localhost:8080/",
          "height": 654
        },
        "outputId": "3499654e-b694-4d79-e27d-89317c1693bd"
      },
      "execution_count": null,
      "outputs": [
        {
          "output_type": "execute_result",
          "data": {
            "text/plain": [
              "      Store        Date  Weekly_Sales  Holiday_Flag  Temperature  Fuel_Price  \\\n",
              "0         1  05-02-2010    1643690.90             0        42.31       2.572   \n",
              "1         1  12-02-2010    1641957.44             1        38.51       2.548   \n",
              "2         1  19-02-2010    1611968.17             0        39.93       2.514   \n",
              "3         1  26-02-2010    1409727.59             0        46.63       2.561   \n",
              "4         1  05-03-2010    1554806.68             0        46.50       2.625   \n",
              "...     ...         ...           ...           ...          ...         ...   \n",
              "6430     45  28-09-2012     713173.95             0        64.88       3.997   \n",
              "6431     45  05-10-2012     733455.07             0        64.89       3.985   \n",
              "6432     45  12-10-2012     734464.36             0        54.47       4.000   \n",
              "6433     45  19-10-2012     718125.53             0        56.47       3.969   \n",
              "6434     45  26-10-2012     760281.43             0        58.85       3.882   \n",
              "\n",
              "             CPI  Unemployment  \n",
              "0     211.096358         8.106  \n",
              "1     211.242170         8.106  \n",
              "2     211.289143         8.106  \n",
              "3     211.319643         8.106  \n",
              "4     211.350143         8.106  \n",
              "...          ...           ...  \n",
              "6430  192.013558         8.684  \n",
              "6431  192.170412         8.667  \n",
              "6432  192.327265         8.667  \n",
              "6433  192.330854         8.667  \n",
              "6434  192.308899         8.667  \n",
              "\n",
              "[6435 rows x 8 columns]"
            ],
            "text/html": [
              "\n",
              "  <div id=\"df-79bc7e9e-8a79-4bab-9d58-1bf8417e9f59\">\n",
              "    <div class=\"colab-df-container\">\n",
              "      <div>\n",
              "<style scoped>\n",
              "    .dataframe tbody tr th:only-of-type {\n",
              "        vertical-align: middle;\n",
              "    }\n",
              "\n",
              "    .dataframe tbody tr th {\n",
              "        vertical-align: top;\n",
              "    }\n",
              "\n",
              "    .dataframe thead th {\n",
              "        text-align: right;\n",
              "    }\n",
              "</style>\n",
              "<table border=\"1\" class=\"dataframe\">\n",
              "  <thead>\n",
              "    <tr style=\"text-align: right;\">\n",
              "      <th></th>\n",
              "      <th>Store</th>\n",
              "      <th>Date</th>\n",
              "      <th>Weekly_Sales</th>\n",
              "      <th>Holiday_Flag</th>\n",
              "      <th>Temperature</th>\n",
              "      <th>Fuel_Price</th>\n",
              "      <th>CPI</th>\n",
              "      <th>Unemployment</th>\n",
              "    </tr>\n",
              "  </thead>\n",
              "  <tbody>\n",
              "    <tr>\n",
              "      <th>0</th>\n",
              "      <td>1</td>\n",
              "      <td>05-02-2010</td>\n",
              "      <td>1643690.90</td>\n",
              "      <td>0</td>\n",
              "      <td>42.31</td>\n",
              "      <td>2.572</td>\n",
              "      <td>211.096358</td>\n",
              "      <td>8.106</td>\n",
              "    </tr>\n",
              "    <tr>\n",
              "      <th>1</th>\n",
              "      <td>1</td>\n",
              "      <td>12-02-2010</td>\n",
              "      <td>1641957.44</td>\n",
              "      <td>1</td>\n",
              "      <td>38.51</td>\n",
              "      <td>2.548</td>\n",
              "      <td>211.242170</td>\n",
              "      <td>8.106</td>\n",
              "    </tr>\n",
              "    <tr>\n",
              "      <th>2</th>\n",
              "      <td>1</td>\n",
              "      <td>19-02-2010</td>\n",
              "      <td>1611968.17</td>\n",
              "      <td>0</td>\n",
              "      <td>39.93</td>\n",
              "      <td>2.514</td>\n",
              "      <td>211.289143</td>\n",
              "      <td>8.106</td>\n",
              "    </tr>\n",
              "    <tr>\n",
              "      <th>3</th>\n",
              "      <td>1</td>\n",
              "      <td>26-02-2010</td>\n",
              "      <td>1409727.59</td>\n",
              "      <td>0</td>\n",
              "      <td>46.63</td>\n",
              "      <td>2.561</td>\n",
              "      <td>211.319643</td>\n",
              "      <td>8.106</td>\n",
              "    </tr>\n",
              "    <tr>\n",
              "      <th>4</th>\n",
              "      <td>1</td>\n",
              "      <td>05-03-2010</td>\n",
              "      <td>1554806.68</td>\n",
              "      <td>0</td>\n",
              "      <td>46.50</td>\n",
              "      <td>2.625</td>\n",
              "      <td>211.350143</td>\n",
              "      <td>8.106</td>\n",
              "    </tr>\n",
              "    <tr>\n",
              "      <th>...</th>\n",
              "      <td>...</td>\n",
              "      <td>...</td>\n",
              "      <td>...</td>\n",
              "      <td>...</td>\n",
              "      <td>...</td>\n",
              "      <td>...</td>\n",
              "      <td>...</td>\n",
              "      <td>...</td>\n",
              "    </tr>\n",
              "    <tr>\n",
              "      <th>6430</th>\n",
              "      <td>45</td>\n",
              "      <td>28-09-2012</td>\n",
              "      <td>713173.95</td>\n",
              "      <td>0</td>\n",
              "      <td>64.88</td>\n",
              "      <td>3.997</td>\n",
              "      <td>192.013558</td>\n",
              "      <td>8.684</td>\n",
              "    </tr>\n",
              "    <tr>\n",
              "      <th>6431</th>\n",
              "      <td>45</td>\n",
              "      <td>05-10-2012</td>\n",
              "      <td>733455.07</td>\n",
              "      <td>0</td>\n",
              "      <td>64.89</td>\n",
              "      <td>3.985</td>\n",
              "      <td>192.170412</td>\n",
              "      <td>8.667</td>\n",
              "    </tr>\n",
              "    <tr>\n",
              "      <th>6432</th>\n",
              "      <td>45</td>\n",
              "      <td>12-10-2012</td>\n",
              "      <td>734464.36</td>\n",
              "      <td>0</td>\n",
              "      <td>54.47</td>\n",
              "      <td>4.000</td>\n",
              "      <td>192.327265</td>\n",
              "      <td>8.667</td>\n",
              "    </tr>\n",
              "    <tr>\n",
              "      <th>6433</th>\n",
              "      <td>45</td>\n",
              "      <td>19-10-2012</td>\n",
              "      <td>718125.53</td>\n",
              "      <td>0</td>\n",
              "      <td>56.47</td>\n",
              "      <td>3.969</td>\n",
              "      <td>192.330854</td>\n",
              "      <td>8.667</td>\n",
              "    </tr>\n",
              "    <tr>\n",
              "      <th>6434</th>\n",
              "      <td>45</td>\n",
              "      <td>26-10-2012</td>\n",
              "      <td>760281.43</td>\n",
              "      <td>0</td>\n",
              "      <td>58.85</td>\n",
              "      <td>3.882</td>\n",
              "      <td>192.308899</td>\n",
              "      <td>8.667</td>\n",
              "    </tr>\n",
              "  </tbody>\n",
              "</table>\n",
              "<p>6435 rows × 8 columns</p>\n",
              "</div>\n",
              "      <button class=\"colab-df-convert\" onclick=\"convertToInteractive('df-79bc7e9e-8a79-4bab-9d58-1bf8417e9f59')\"\n",
              "              title=\"Convert this dataframe to an interactive table.\"\n",
              "              style=\"display:none;\">\n",
              "        \n",
              "  <svg xmlns=\"http://www.w3.org/2000/svg\" height=\"24px\"viewBox=\"0 0 24 24\"\n",
              "       width=\"24px\">\n",
              "    <path d=\"M0 0h24v24H0V0z\" fill=\"none\"/>\n",
              "    <path d=\"M18.56 5.44l.94 2.06.94-2.06 2.06-.94-2.06-.94-.94-2.06-.94 2.06-2.06.94zm-11 1L8.5 8.5l.94-2.06 2.06-.94-2.06-.94L8.5 2.5l-.94 2.06-2.06.94zm10 10l.94 2.06.94-2.06 2.06-.94-2.06-.94-.94-2.06-.94 2.06-2.06.94z\"/><path d=\"M17.41 7.96l-1.37-1.37c-.4-.4-.92-.59-1.43-.59-.52 0-1.04.2-1.43.59L10.3 9.45l-7.72 7.72c-.78.78-.78 2.05 0 2.83L4 21.41c.39.39.9.59 1.41.59.51 0 1.02-.2 1.41-.59l7.78-7.78 2.81-2.81c.8-.78.8-2.07 0-2.86zM5.41 20L4 18.59l7.72-7.72 1.47 1.35L5.41 20z\"/>\n",
              "  </svg>\n",
              "      </button>\n",
              "      \n",
              "  <style>\n",
              "    .colab-df-container {\n",
              "      display:flex;\n",
              "      flex-wrap:wrap;\n",
              "      gap: 12px;\n",
              "    }\n",
              "\n",
              "    .colab-df-convert {\n",
              "      background-color: #E8F0FE;\n",
              "      border: none;\n",
              "      border-radius: 50%;\n",
              "      cursor: pointer;\n",
              "      display: none;\n",
              "      fill: #1967D2;\n",
              "      height: 32px;\n",
              "      padding: 0 0 0 0;\n",
              "      width: 32px;\n",
              "    }\n",
              "\n",
              "    .colab-df-convert:hover {\n",
              "      background-color: #E2EBFA;\n",
              "      box-shadow: 0px 1px 2px rgba(60, 64, 67, 0.3), 0px 1px 3px 1px rgba(60, 64, 67, 0.15);\n",
              "      fill: #174EA6;\n",
              "    }\n",
              "\n",
              "    [theme=dark] .colab-df-convert {\n",
              "      background-color: #3B4455;\n",
              "      fill: #D2E3FC;\n",
              "    }\n",
              "\n",
              "    [theme=dark] .colab-df-convert:hover {\n",
              "      background-color: #434B5C;\n",
              "      box-shadow: 0px 1px 3px 1px rgba(0, 0, 0, 0.15);\n",
              "      filter: drop-shadow(0px 1px 2px rgba(0, 0, 0, 0.3));\n",
              "      fill: #FFFFFF;\n",
              "    }\n",
              "  </style>\n",
              "\n",
              "      <script>\n",
              "        const buttonEl =\n",
              "          document.querySelector('#df-79bc7e9e-8a79-4bab-9d58-1bf8417e9f59 button.colab-df-convert');\n",
              "        buttonEl.style.display =\n",
              "          google.colab.kernel.accessAllowed ? 'block' : 'none';\n",
              "\n",
              "        async function convertToInteractive(key) {\n",
              "          const element = document.querySelector('#df-79bc7e9e-8a79-4bab-9d58-1bf8417e9f59');\n",
              "          const dataTable =\n",
              "            await google.colab.kernel.invokeFunction('convertToInteractive',\n",
              "                                                     [key], {});\n",
              "          if (!dataTable) return;\n",
              "\n",
              "          const docLinkHtml = 'Like what you see? Visit the ' +\n",
              "            '<a target=\"_blank\" href=https://colab.research.google.com/notebooks/data_table.ipynb>data table notebook</a>'\n",
              "            + ' to learn more about interactive tables.';\n",
              "          element.innerHTML = '';\n",
              "          dataTable['output_type'] = 'display_data';\n",
              "          await google.colab.output.renderOutput(dataTable, element);\n",
              "          const docLink = document.createElement('div');\n",
              "          docLink.innerHTML = docLinkHtml;\n",
              "          element.appendChild(docLink);\n",
              "        }\n",
              "      </script>\n",
              "    </div>\n",
              "  </div>\n",
              "  "
            ]
          },
          "metadata": {},
          "execution_count": 14
        }
      ]
    },
    {
      "cell_type": "markdown",
      "source": [
        "#### Descriptive analisys\n",
        "\n",
        "How many rows and columns does the dataset have?"
      ],
      "metadata": {
        "id": "Z_L7z5sWRmVQ"
      }
    },
    {
      "cell_type": "code",
      "source": [
        "number_row, number_columns = dataset.shape\n",
        "print(f'This dataset has {number_row} row and {number_columns} columns.')"
      ],
      "metadata": {
        "colab": {
          "base_uri": "https://localhost:8080/"
        },
        "id": "UJVxvdOMN0fi",
        "outputId": "e3bd2e53-31c8-4c1c-9fe2-58a12fb65f08"
      },
      "execution_count": null,
      "outputs": [
        {
          "output_type": "stream",
          "name": "stdout",
          "text": [
            "This dataset has 6435 row and 8 columns.\n"
          ]
        }
      ]
    },
    {
      "cell_type": "markdown",
      "source": [
        "### 01.2 Clean the data"
      ],
      "metadata": {
        "id": "2OOsM-pmUdzG"
      }
    },
    {
      "cell_type": "code",
      "source": [],
      "metadata": {
        "id": "O6b06ImzUir5"
      },
      "execution_count": null,
      "outputs": []
    },
    {
      "cell_type": "markdown",
      "source": [
        "### 01.3 Format the data"
      ],
      "metadata": {
        "id": "OP2QsyxfUjC5"
      }
    },
    {
      "cell_type": "code",
      "source": [],
      "metadata": {
        "id": "oYJ5vvjXUoIV"
      },
      "execution_count": null,
      "outputs": []
    },
    {
      "cell_type": "markdown",
      "source": [
        "## 02 Feature Engineering"
      ],
      "metadata": {
        "id": "HIvy8ao6dEH7"
      }
    },
    {
      "cell_type": "markdown",
      "source": [
        "### 02.1 Feature Contruction"
      ],
      "metadata": {
        "id": "X01LOCd4YC27"
      }
    },
    {
      "cell_type": "code",
      "source": [],
      "metadata": {
        "id": "607hob-IPUeD"
      },
      "execution_count": null,
      "outputs": []
    },
    {
      "cell_type": "markdown",
      "source": [
        "### 02.2 Feature Transformation"
      ],
      "metadata": {
        "id": "sJnvxwfiYMwn"
      }
    },
    {
      "cell_type": "code",
      "source": [],
      "metadata": {
        "id": "pF9kwm66YSNX"
      },
      "execution_count": null,
      "outputs": []
    },
    {
      "cell_type": "markdown",
      "source": [
        "### 02.3 Dimension Reduction"
      ],
      "metadata": {
        "id": "L-xwj-5GYSlV"
      }
    },
    {
      "cell_type": "code",
      "source": [],
      "metadata": {
        "id": "JMbtLrGUYXmt"
      },
      "execution_count": null,
      "outputs": []
    },
    {
      "cell_type": "markdown",
      "source": [
        "## 03 Data Modeling"
      ],
      "metadata": {
        "id": "0hcDDN8SjWVD"
      }
    },
    {
      "cell_type": "markdown",
      "source": [
        "### 03.1 Linear Regression Model"
      ],
      "metadata": {
        "id": "T5to8vMpaUC4"
      }
    },
    {
      "cell_type": "code",
      "source": [],
      "metadata": {
        "id": "k3OeL54-jXck"
      },
      "execution_count": null,
      "outputs": []
    },
    {
      "cell_type": "markdown",
      "source": [
        "### 03.2 Random Forest Regressor Model"
      ],
      "metadata": {
        "id": "FK62aoaKdvyk"
      }
    },
    {
      "cell_type": "code",
      "source": [],
      "metadata": {
        "id": "JlcNYt7Yd_xF"
      },
      "execution_count": null,
      "outputs": []
    },
    {
      "cell_type": "markdown",
      "source": [
        "### 03.3 Gaussian Regresion Model"
      ],
      "metadata": {
        "id": "xgAgUeTAaj69"
      }
    },
    {
      "cell_type": "code",
      "source": [],
      "metadata": {
        "id": "9Zi-LlE7dvOl"
      },
      "execution_count": null,
      "outputs": []
    },
    {
      "cell_type": "markdown",
      "source": [
        "## 04 Performance Measure\n",
        "\n",
        "### 04.1 Predict values"
      ],
      "metadata": {
        "id": "0KvJLA7-jYI6"
      }
    },
    {
      "cell_type": "code",
      "source": [],
      "metadata": {
        "id": "HpCXcY9-jbs5"
      },
      "execution_count": null,
      "outputs": []
    },
    {
      "cell_type": "markdown",
      "source": [
        "### 04.2 Compare predicted values"
      ],
      "metadata": {
        "id": "2igChfIPaL3k"
      }
    },
    {
      "cell_type": "code",
      "source": [],
      "metadata": {
        "id": "K5JuIsFNaSZ9"
      },
      "execution_count": null,
      "outputs": []
    },
    {
      "cell_type": "markdown",
      "source": [
        "## 05 Performance Improvement"
      ],
      "metadata": {
        "id": "jbBu-hKQU-Jc"
      }
    },
    {
      "cell_type": "markdown",
      "source": [
        "## Conclusion"
      ],
      "metadata": {
        "id": "6hrT6g6ijcK0"
      }
    },
    {
      "cell_type": "code",
      "source": [],
      "metadata": {
        "id": "0vrMNlqBjdQ7"
      },
      "execution_count": null,
      "outputs": []
    }
  ]
}